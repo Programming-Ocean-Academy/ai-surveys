{
  "nbformat": 4,
  "nbformat_minor": 0,
  "metadata": {
    "colab": {
      "provenance": []
    },
    "kernelspec": {
      "name": "python3",
      "display_name": "Python 3"
    },
    "language_info": {
      "name": "python"
    }
  },
  "cells": [
    {
      "cell_type": "markdown",
      "source": [
        "# Core Concepts in AI and Statistical Modeling\n",
        "\n",
        "## Latent States\n",
        "**Definition:**  \n",
        "Latent states are hidden or unobserved variables within a model. They are not directly measurable from the data but are assumed to exist to explain the observed patterns.  \n",
        "\n",
        "**Role:**  \n",
        "They capture abstract or compressed representations that influence the observed data. For example:  \n",
        "- In Hidden Markov Models, the latent state is the hidden label generating the observations.  \n",
        "- In Variational Autoencoders, the latent vector represents a compressed code of the input.  \n",
        "\n",
        "**Nature:**  \n",
        "- They are discovered by the model during training.  \n",
        "- They are difficult to interpret directly by humans.  \n",
        "- They are central to generative models and unsupervised learning.  \n",
        "\n",
        "**Examples:**  \n",
        "- Topic vectors in NLP.  \n",
        "- Encodings in autoencoders.  \n",
        "- Hidden states in RNNs or Transformers.  \n",
        "\n",
        "---\n",
        "\n",
        "## Features\n",
        "**Definition:**  \n",
        "Features are measurable characteristics or attributes of the data used as input to a model. They describe the data in a way the model can process.  \n",
        "\n",
        "**Role:**  \n",
        "Features form the raw input space for learning. The model identifies patterns and relationships between features and targets.  \n",
        "\n",
        "**Nature:**  \n",
        "- Can be raw (e.g., pixel intensities) or engineered (e.g., TF-IDF scores, polynomial features).  \n",
        "- Directly interpretable by humans when designed explicitly.  \n",
        "- Feature extraction can be automated (deep learning) or manual (classical ML).  \n",
        "\n",
        "**Examples:**  \n",
        "- Pixel values in an image.  \n",
        "- Word embeddings in NLP.  \n",
        "- Age, income, or weight in tabular data.  \n",
        "\n",
        "---\n",
        "\n",
        "## Predictors / Regressors\n",
        "**Definition:**  \n",
        "Predictors (or regressors in regression analysis) are independent variables explicitly chosen to model the relationship with the target (dependent variable).  \n",
        "\n",
        "**Role:**  \n",
        "They are the inputs fed into the model with the intent to explain or predict the output. In regression, they appear on the right-hand side of the equation.  \n",
        "\n",
        "**Nature:**  \n",
        "- Always human-selected (though feature selection may prune them).  \n",
        "- Mathematically explicit in equations (e.g., \\( y = \\beta_0 + \\beta_1 x_1 + \\beta_2 x_2 \\)).  \n",
        "- Part of hypothesis-driven modeling.  \n",
        "\n",
        "**Examples:**  \n",
        "- In predicting house prices: size, location, and number of rooms as regressors.  \n",
        "- In linear regression: explanatory variables that influence the dependent variable.  \n",
        "\n",
        "---\n",
        "\n",
        "## Important Properties\n",
        "**Definition:**  \n",
        "Important properties are the aspects or characteristics of features, regressors, or latent states that exert the strongest influence on the model’s predictions.  \n",
        "\n",
        "**Role:**  \n",
        "They reveal which variables or dimensions matter most for the task. This can mean statistical significance, variance contribution, or learned importance.  \n",
        "\n",
        "**Nature:**  \n",
        "- Emerges from analysis or model training.  \n",
        "- Can apply to both observed features and hidden latent variables.  \n",
        "- Bridges human interpretability with model behavior.  \n",
        "\n",
        "**Examples:**  \n",
        "- Principal components in PCA (directions of maximum variance).  \n",
        "- Attention weights in Transformers (highlighting salient tokens).  \n",
        "- Feature importances in Random Forests or SHAP values in explainable AI.  \n",
        "\n",
        "---\n"
      ],
      "metadata": {
        "id": "RLcXlSctNcKh"
      }
    },
    {
      "cell_type": "markdown",
      "source": [
        "# Comparative Table of Core Concepts\n",
        "\n",
        "| Concept              | Definition                                                | Role in Modeling                          | Nature                                      | Examples                                  |\n",
        "|----------------------|-----------------------------------------------------------|-------------------------------------------|---------------------------------------------|-------------------------------------------|\n",
        "| Latent States        | Hidden/unobserved variables explaining observed data      | Capture abstract/compressed structure      | Model-discovered, hard to interpret          | Hidden states in RNNs, VAE latent vectors  |\n",
        "| Features             | Measurable attributes of the data                         | Provide raw material for learning          | Extracted/engineered, human-readable         | Pixels, word embeddings, TF-IDF values     |\n",
        "| Predictors/Regressors| Independent variables explicitly chosen as inputs         | Predict/explain target outcomes            | Human-selected, explicit in equations        | House size, age, income in regression      |\n",
        "| Important Properties | Influential aspects of features or latent representations | Determine what drives predictions/outputs  | Emerges from training or statistical analysis| PCA components, attention weights, SHAP    |\n"
      ],
      "metadata": {
        "id": "2FjEJAbLNqH6"
      }
    },
    {
      "cell_type": "markdown",
      "source": [
        "# Comparative Table of Core Concepts with Academic References\n",
        "\n",
        "| Concept              | Definition                                                | Role in Modeling                          | Nature                                      | Examples                                  | Key References                                                                 |\n",
        "|----------------------|-----------------------------------------------------------|-------------------------------------------|---------------------------------------------|-------------------------------------------|--------------------------------------------------------------------------------|\n",
        "| Latent States        | Hidden/unobserved variables explaining observed data      | Capture abstract/compressed structure      | Model-discovered, hard to interpret          | Hidden states in RNNs, VAE latent vectors  | *Bishop, C. M. (2006). Pattern Recognition and Machine Learning*; Jordan, M. I. (1999). *Learning in Graphical Models* |\n",
        "| Features             | Measurable attributes of the data                         | Provide raw material for learning          | Extracted/engineered, human-readable         | Pixels, word embeddings, TF-IDF values     | Hastie, Tibshirani & Friedman (2009). *The Elements of Statistical Learning*; Guyon & Elisseeff (2003). *Feature Selection* |\n",
        "| Predictors/Regressors| Independent variables explicitly chosen as inputs         | Predict/explain target outcomes            | Human-selected, explicit in equations        | House size, age, income in regression      | Draper & Smith (1998). *Applied Regression Analysis*; Seber & Lee (2012). *Linear Regression Analysis* |\n",
        "| Important Properties | Influential aspects of features or latent representations | Determine what drives predictions/outputs  | Emerges from training or statistical analysis| PCA components, attention weights, SHAP    | Jolliffe (2002). *Principal Component Analysis*; Lundberg & Lee (2017). *A Unified Approach to Interpreting Model Predictions* |\n"
      ],
      "metadata": {
        "id": "Hjb76K2oN1nT"
      }
    }
  ]
}