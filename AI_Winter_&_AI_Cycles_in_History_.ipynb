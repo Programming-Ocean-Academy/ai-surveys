{
  "nbformat": 4,
  "nbformat_minor": 0,
  "metadata": {
    "colab": {
      "provenance": []
    },
    "kernelspec": {
      "name": "python3",
      "display_name": "Python 3"
    },
    "language_info": {
      "name": "python"
    }
  },
  "cells": [
    {
      "cell_type": "markdown",
      "source": [
        "# AI Winter\n",
        "\n",
        "## Definition\n",
        "An **AI winter** refers to periods when optimism in artificial intelligence collapses, leading to reduced funding, waning interest, and stagnation in research. These downturns usually follow periods of hype, when exaggerated expectations outpace technological progress. Once promised breakthroughs fail to materialize, both governments and industries scale back investments, causing setbacks across the field.\n",
        "\n",
        "---\n",
        "\n",
        "## Origin of the Term\n",
        "The phrase **“AI winter”** was first introduced in 1984 at an AAAI conference debate, led by **Roger Schank** and **Marvin Minsky**. They warned that the growing hype in the 1980s was unsustainable. The cycle they described resembled a “nuclear winter”:\n",
        "\n",
        "1. Optimism in research leads to hype.  \n",
        "2. Media exaggeration fuels unrealistic expectations.  \n",
        "3. Disappointment sets in when results lag.  \n",
        "4. Funding agencies withdraw support.  \n",
        "5. Research stagnates, leaving projects abandoned.  \n",
        "\n",
        "---\n",
        "\n",
        "## Major Winters in AI History\n",
        "\n",
        "### 1️ First AI Winter (1974–1980)\n",
        "\n",
        "**Triggers:**\n",
        "- **1966 – ALPAC Report**: Found machine translation inferior to human translation → funding cuts.  \n",
        "- **1969 – Perceptron Criticism**: Minsky & Papert highlighted limitations of single-layer perceptrons → loss of faith in neural nets.  \n",
        "- **1973 – Lighthill Report (UK)**: Declared most AI research irrelevant → major UK funding withdrawal.  \n",
        "- **DARPA Cuts (1970s)**: Reduced support for speech understanding projects due to slow progress.  \n",
        "\n",
        "**Result:**  \n",
        "AI was branded **overambitious and under-delivering**. Research momentum collapsed, projects halted, and academic programs shrank dramatically.  \n",
        "\n",
        "---\n",
        "\n",
        "### 2️ Second AI Winter (1987–2000)\n",
        "\n",
        "**Triggers:**\n",
        "- **Collapse of LISP Machine Market (1987)**: Outcompeted by cheaper general-purpose workstations.  \n",
        "- **DARPA’s Strategic Computing Initiative (1988)**: Large projects cancelled after failing expectations.  \n",
        "- **Expert Systems Backlash (1990s)**: Proved brittle, costly, and hard to maintain.  \n",
        "- **Japan’s Fifth Generation Project (1990s)**: Failed to achieve machine reasoning and natural conversation despite huge investment.  \n",
        "\n",
        "**Result:**  \n",
        "AI was viewed as a **failed promise**. Researchers distanced themselves from the “AI” label, instead adopting terms such as **informatics, intelligent systems, knowledge-based systems, or machine learning** to maintain credibility.\n",
        "\n",
        "---\n",
        "\n",
        "## Recovery and the Current AI Boom\n",
        "\n",
        "- **Gradual Recovery (1990s):** AI quietly entered practical applications (e.g., optimization, logistics) without being labeled as “AI.”  \n",
        "- **Breakthrough (2012 – AlexNet):** Deep learning’s ImageNet victory sparked a revolution.  \n",
        "- **2020s AI Spring:**  \n",
        "  - Machine translation (Google Translate).  \n",
        "  - Computer vision at scale (ImageNet, AlphaGo, AlphaZero).  \n",
        "  - Conversational AI (ChatGPT, 2022: 100M users in 2 months).  \n",
        "- **Massive Investments:** By 2025, AI investment projected to reach **$364 billion**, spanning every major industry.  \n",
        "\n",
        "---\n",
        "\n",
        "## Key Lesson\n",
        "The history of AI follows a **cyclical pattern**:  \n",
        "\n",
        "**hype → disappointment → winter → revival.**\n",
        "\n",
        "The present boom is unprecedented in scope and success, but the warning remains clear:  \n",
        "- If expectations exceed achievable results, another winter could follow.  \n",
        "- Avoiding this requires **balanced investment, realistic goals, and sustainable strategies**.  \n"
      ],
      "metadata": {
        "id": "UBJxdTLw51yh"
      }
    },
    {
      "cell_type": "markdown",
      "source": [
        "# AI Cycles in History\n",
        "\n",
        "| Term       | Definition                                                                 | Typical Triggers                                                       | Consequences                                                        | Historical Examples                  |\n",
        "|------------|-----------------------------------------------------------------------------|------------------------------------------------------------------------|---------------------------------------------------------------------|--------------------------------------|\n",
        "| **AI Winter** | Period of declining funding, interest, and progress in AI research.         | Overhyped promises that failed (e.g., machine translation, expert systems). | Funding cuts, reputational damage, slowed research progress.         | 1974–1980, 1987–2000.                |\n",
        "| **AI Spring** | Period of renewed optimism and recovery in AI research after a winter.      | Breakthroughs that restore confidence (e.g., deep learning).             | Increased funding, academic and industrial revival.                  | 2010s – rise of deep learning.       |\n",
        "| **AI Boom**   | Rapid surge of interest, breakthroughs, and massive investment in AI.       | Practical successes in NLP, vision, reinforcement learning.              | Widespread adoption, multi-billion-dollar investments, global impact.| 2020s: ImageNet, AlphaGo, ChatGPT.   |\n",
        "| **AI Bubble** | Unsustainable hype cycle where expectations exceed realistic progress.      | Media exaggeration, speculative investment, inflated claims.             | Risk of collapse, leading to a new AI Winter.                        | 1980s expert systems; 2020s concerns.|\n"
      ],
      "metadata": {
        "id": "7ng5sakY6Xzw"
      }
    }
  ]
}